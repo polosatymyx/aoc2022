{
 "cells": [
  {
   "cell_type": "code",
   "execution_count": 94,
   "metadata": {},
   "outputs": [],
   "source": [
    "import numpy as np\n",
    "input = open('p9.txt', mode='r')"
   ]
  },
  {
   "cell_type": "code",
   "execution_count": 100,
   "metadata": {},
   "outputs": [],
   "source": [
    "head = np.array([0,0])\n",
    "tail = np.array([0,0])\n",
    "codes = {'R': np.array([1,0]), 'L': np.array([-1,0]), 'U': np.array([0,1]), 'D': np.array([0,-1])}\n",
    "trace = [np.array([0,0])]\n",
    "def form_map(input, head, tail):\n",
    "    while True:\n",
    "        action = input.readline().strip('\\n').split()\n",
    "        if not action: break\n",
    "        steps = int(action[1])\n",
    "        while steps>0:\n",
    "            head = head+codes[action[0]]\n",
    "            gradient = head-tail\n",
    "            update = np.linalg.norm(gradient)/4*(gradient)\n",
    "            tail = tail+np.round(update)\n",
    "            trace.append(tail.copy())\n",
    "            steps -=1\n",
    "    "
   ]
  },
  {
   "cell_type": "code",
   "execution_count": 101,
   "metadata": {},
   "outputs": [
    {
     "data": {
      "text/plain": [
       "6496"
      ]
     },
     "execution_count": 101,
     "metadata": {},
     "output_type": "execute_result"
    }
   ],
   "source": [
    "form_map(input, head=head, tail=tail)\n",
    "trace = np.concatenate(trace,axis=0).reshape([-1,2])\n",
    "np.unique(trace, axis=0).shape[0]"
   ]
  },
  {
   "cell_type": "code",
   "execution_count": 91,
   "metadata": {},
   "outputs": [],
   "source": [
    "codes = {'R': np.array([1,0]), 'L': np.array([-1,0]), 'U': np.array([0,1]), 'D': np.array([0,-1])}\n",
    "\n",
    "snake  = np.zeros([10,2])\n",
    "trace = [snake[-1].copy()]\n",
    "def form_map(input):\n",
    "    while True:\n",
    "        action = input.readline().strip('\\n').split()\n",
    "        if not action: break\n",
    "        steps = int(action[1])\n",
    "        while steps>0:\n",
    "            i = 1\n",
    "            snake[0] += codes[action[0]]\n",
    "            while i<10:\n",
    "                h, t = snake[i-1], snake[i]\n",
    "                gradient = h-t\n",
    "                update = np.linalg.norm(gradient)/4*(gradient)\n",
    "                snake[i] = t+np.round(update)\n",
    "                i += 1\n",
    "            trace.append(snake[9].copy())\n",
    "            steps -=1"
   ]
  },
  {
   "cell_type": "code",
   "execution_count": 92,
   "metadata": {},
   "outputs": [],
   "source": [
    "input = open('p9.txt', mode='r')\n",
    "form_map(input)\n"
   ]
  },
  {
   "cell_type": "code",
   "execution_count": 93,
   "metadata": {},
   "outputs": [
    {
     "data": {
      "text/plain": [
       "2531"
      ]
     },
     "execution_count": 93,
     "metadata": {},
     "output_type": "execute_result"
    }
   ],
   "source": [
    "trace = np.concatenate(trace,axis=0).reshape([-1,2])\n",
    "np.unique(trace, axis=0).shape[0]"
   ]
  },
  {
   "cell_type": "code",
   "execution_count": 90,
   "metadata": {},
   "outputs": [
    {
     "data": {
      "text/plain": [
       "array([[  0.,   0.],\n",
       "       [  0.,   0.],\n",
       "       [  0.,   0.],\n",
       "       [  0.,   0.],\n",
       "       [  0.,   0.],\n",
       "       [  0.,   0.],\n",
       "       [  0.,   0.],\n",
       "       [  0.,   0.],\n",
       "       [  0.,   0.],\n",
       "       [  0.,   0.],\n",
       "       [  0.,   0.],\n",
       "       [  0.,   0.],\n",
       "       [  0.,   0.],\n",
       "       [  0.,   0.],\n",
       "       [  0.,   0.],\n",
       "       [  0.,   0.],\n",
       "       [  0.,   0.],\n",
       "       [  1.,   1.],\n",
       "       [  1.,   1.],\n",
       "       [  2.,   2.],\n",
       "       [  2.,   2.],\n",
       "       [  1.,   3.],\n",
       "       [  1.,   3.],\n",
       "       [  1.,   3.],\n",
       "       [  1.,   3.],\n",
       "       [  1.,   3.],\n",
       "       [  1.,   3.],\n",
       "       [  1.,   3.],\n",
       "       [  1.,   3.],\n",
       "       [  1.,   3.],\n",
       "       [  1.,   3.],\n",
       "       [  1.,   3.],\n",
       "       [  1.,   3.],\n",
       "       [  1.,   3.],\n",
       "       [  1.,   3.],\n",
       "       [  1.,   3.],\n",
       "       [  1.,   3.],\n",
       "       [  2.,   4.],\n",
       "       [  2.,   4.],\n",
       "       [  3.,   5.],\n",
       "       [  4.,   5.],\n",
       "       [  5.,   5.],\n",
       "       [  5.,   5.],\n",
       "       [  6.,   4.],\n",
       "       [  6.,   4.],\n",
       "       [  7.,   3.],\n",
       "       [  7.,   3.],\n",
       "       [  8.,   2.],\n",
       "       [  8.,   2.],\n",
       "       [  9.,   1.],\n",
       "       [  9.,   1.],\n",
       "       [ 10.,   0.],\n",
       "       [ 10.,   0.],\n",
       "       [ 10.,   0.],\n",
       "       [ 10.,   0.],\n",
       "       [ 10.,   0.],\n",
       "       [ 10.,   0.],\n",
       "       [ 10.,   0.],\n",
       "       [ 10.,   0.],\n",
       "       [ 10.,   0.],\n",
       "       [ 10.,   0.],\n",
       "       [  9.,  -1.],\n",
       "       [  9.,  -1.],\n",
       "       [  8.,  -2.],\n",
       "       [  8.,  -2.],\n",
       "       [  7.,  -3.],\n",
       "       [  7.,  -3.],\n",
       "       [  6.,  -4.],\n",
       "       [  6.,  -4.],\n",
       "       [  5.,  -5.],\n",
       "       [  4.,  -5.],\n",
       "       [  3.,  -5.],\n",
       "       [  2.,  -5.],\n",
       "       [  1.,  -5.],\n",
       "       [  0.,  -5.],\n",
       "       [ -1.,  -5.],\n",
       "       [ -2.,  -5.],\n",
       "       [ -2.,  -5.],\n",
       "       [ -3.,  -4.],\n",
       "       [ -3.,  -4.],\n",
       "       [ -4.,  -3.],\n",
       "       [ -4.,  -3.],\n",
       "       [ -5.,  -2.],\n",
       "       [ -5.,  -2.],\n",
       "       [ -6.,  -1.],\n",
       "       [ -6.,  -1.],\n",
       "       [ -7.,   0.],\n",
       "       [ -7.,   0.],\n",
       "       [ -8.,   1.],\n",
       "       [ -8.,   1.],\n",
       "       [ -9.,   2.],\n",
       "       [ -9.,   2.],\n",
       "       [-10.,   3.],\n",
       "       [-10.,   3.],\n",
       "       [-11.,   4.],\n",
       "       [-11.,   5.],\n",
       "       [-11.,   6.]])"
      ]
     },
     "execution_count": 90,
     "metadata": {},
     "output_type": "execute_result"
    }
   ],
   "source": [
    "trace"
   ]
  },
  {
   "cell_type": "code",
   "execution_count": null,
   "metadata": {},
   "outputs": [],
   "source": []
  }
 ],
 "metadata": {
  "kernelspec": {
   "display_name": "Python 3.9.10 64-bit",
   "language": "python",
   "name": "python3"
  },
  "language_info": {
   "codemirror_mode": {
    "name": "ipython",
    "version": 3
   },
   "file_extension": ".py",
   "mimetype": "text/x-python",
   "name": "python",
   "nbconvert_exporter": "python",
   "pygments_lexer": "ipython3",
   "version": "3.9.10"
  },
  "orig_nbformat": 4,
  "vscode": {
   "interpreter": {
    "hash": "36cf16204b8548560b1c020c4e8fb5b57f0e4c58016f52f2d4be01e192833930"
   }
  }
 },
 "nbformat": 4,
 "nbformat_minor": 2
}
