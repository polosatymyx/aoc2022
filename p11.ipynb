{
 "cells": [
  {
   "cell_type": "code",
   "execution_count": 3,
   "metadata": {},
   "outputs": [],
   "source": [
    "import numpy as np"
   ]
  },
  {
   "cell_type": "code",
   "execution_count": 60,
   "metadata": {},
   "outputs": [],
   "source": [
    "# def modlul_div(worries, test_divider):\n",
    "#     return np.remainder(worries, test_divider)\n",
    "y = [79,98]+[54, 65, 75, 74]+[79, 60, 97]+[74]\n",
    "y = np.array(y)\n",
    "monkeys =[\n",
    "    {'operation': lambda x: 19*x, 'test': lambda x: np.remainder(x, 23), 'items_at_hand':np.array([0,1]),          'reminders':y.copy(), 'recepients':[3,2], 'items_inspected': 0},\n",
    "    {'operation': lambda x: 6+x, 'test': lambda x: np.remainder(x, 19), 'items_at_hand':np.array([2, 3, 4, 5]),    'reminders':y.copy(), 'recepients':[0,2], 'items_inspected': 0},\n",
    "    {'operation': lambda x: x*x, 'test': lambda x: np.remainder(x, 13), 'items_at_hand':np.array([6, 7, 8]),       'reminders':y.copy(), 'recepients':[3,1], 'items_inspected': 0},\n",
    "    {'operation': lambda x: 3+x, 'test': lambda x: np.remainder(x, 17), 'items_at_hand':np.array([9]),             'reminders':y.copy(), 'recepients':[1,0], 'items_inspected': 0}\n",
    "]\n",
    "\n"
   ]
  },
  {
   "cell_type": "code",
   "execution_count": 62,
   "metadata": {},
   "outputs": [],
   "source": [
    "y = [65, 58, 93, 57, 66] + [76, 97, 58, 72, 57, 92, 82] + [90, 89, 96] + [72, 63, 72, 99] + [65] + [97, 71] + [83, 68, 88, 55, 87, 67] + [64, 81, 50, 96, 82, 53, 62, 92]\n",
    "y = np.array(y)\n",
    "\n",
    "\n",
    "monkeys = [\n",
    "    {'operation': lambda x: 7*x, 'test': lambda x: np.remainder(x, 19),    'items_at_hand':np.array([0, 1, 2, 3, 4]),                   'reminders':y.copy(), 'recepients':[4,6], 'items_inspected': 0},\n",
    "    {'operation': lambda x: 4+x, 'test': lambda x: np.remainder(x, 3),     'items_at_hand':np.array([5, 6, 7, 8, 9, 10, 11]),           'reminders':y.copy(), 'recepients':[5,7], 'items_inspected': 0},\n",
    "    {'operation': lambda x: 5*x, 'test': lambda x: np.remainder(x, 13),    'items_at_hand':np.array([12, 13, 14]),                      'reminders':y.copy(), 'recepients':[1,5], 'items_inspected': 0},\n",
    "    {'operation': lambda x: x*x, 'test': lambda x: np.remainder(x, 17),    'items_at_hand':np.array([15, 16, 17, 18]),                  'reminders':y.copy(), 'recepients':[4,0], 'items_inspected': 0},\n",
    "    {'operation': lambda x: 1+x, 'test': lambda x: np.remainder(x, 2),     'items_at_hand':np.array([19]),                              'reminders':y.copy(), 'recepients':[2,6], 'items_inspected': 0},\n",
    "    {'operation': lambda x: 8+x, 'test': lambda x: np.remainder(x, 11),    'items_at_hand':np.array([20, 21]),                          'reminders':y.copy(), 'recepients':[3,7], 'items_inspected': 0},\n",
    "    {'operation': lambda x: 2+x, 'test': lambda x: np.remainder(x, 5),     'items_at_hand':np.array([22, 23, 24, 25, 26, 27]),          'reminders':y.copy(), 'recepients':[1,2], 'items_inspected': 0},\n",
    "    {'operation': lambda x: 5+x, 'test': lambda x: np.remainder(x, 7),     'items_at_hand':np.array([28, 29, 30, 31, 32, 33, 34, 35]),  'reminders':y.copy(), 'recepients':[0,3], 'items_inspected': 0}\n",
    "]"
   ]
  },
  {
   "cell_type": "code",
   "execution_count": 63,
   "metadata": {},
   "outputs": [
    {
     "data": {
      "text/plain": [
       "[45924, 131087, 87798, 95174, 107420, 96174, 74384, 41580]"
      ]
     },
     "execution_count": 63,
     "metadata": {},
     "output_type": "execute_result"
    }
   ],
   "source": [
    "for i in range(10000):\n",
    "    for monkey in monkeys:\n",
    "        monkey['items_inspected'] += monkey['items_at_hand'].size\n",
    "        for m in monkeys:\n",
    "            m['reminders'][monkey['items_at_hand']] = (monkey['operation'](m['reminders'][monkey['items_at_hand']])).astype(int)\n",
    "            m['reminders'][monkey['items_at_hand']] = m['test'](m['reminders'][monkey['items_at_hand']])\n",
    "\n",
    "        false_indicies = np.where(monkey['reminders'][monkey['items_at_hand']])[0]\n",
    "        \n",
    "        if_test_false_monkey, if_test_true_monkey = monkey['recepients']\n",
    "\n",
    "        monkeys[if_test_false_monkey]['items_at_hand'] = np.append(monkeys[if_test_false_monkey]['items_at_hand'], monkey['items_at_hand'][false_indicies]).astype(int)\n",
    "        monkey['items_at_hand'] = np.delete(monkey['items_at_hand'],false_indicies)\n",
    "\n",
    "        monkeys[if_test_true_monkey]['items_at_hand'] = np.append(monkeys[if_test_true_monkey]['items_at_hand'], monkey['items_at_hand']).astype(int)\n",
    "        monkey['items_at_hand']=np.array([])\n",
    "\n",
    "x = sorted([x['items_inspected'] for x in monkeys])\n",
    "x[-1]*x[-2]"
   ]
  },
  {
   "cell_type": "code",
   "execution_count": 64,
   "metadata": {},
   "outputs": [
    {
     "data": {
      "text/plain": [
       "[41580, 45924, 74384, 87798, 95174, 96174, 107420, 131087]"
      ]
     },
     "execution_count": 64,
     "metadata": {},
     "output_type": "execute_result"
    }
   ],
   "source": [
    "\n",
    "x"
   ]
  },
  {
   "cell_type": "code",
   "execution_count": 65,
   "metadata": {},
   "outputs": [
    {
     "data": {
      "text/plain": [
       "14081365540"
      ]
     },
     "execution_count": 65,
     "metadata": {},
     "output_type": "execute_result"
    }
   ],
   "source": [
    "x[-1]*x[-2]"
   ]
  },
  {
   "cell_type": "code",
   "execution_count": null,
   "metadata": {},
   "outputs": [],
   "source": []
  }
 ],
 "metadata": {
  "kernelspec": {
   "display_name": "Python 3.9.10 64-bit",
   "language": "python",
   "name": "python3"
  },
  "language_info": {
   "codemirror_mode": {
    "name": "ipython",
    "version": 3
   },
   "file_extension": ".py",
   "mimetype": "text/x-python",
   "name": "python",
   "nbconvert_exporter": "python",
   "pygments_lexer": "ipython3",
   "version": "3.9.10"
  },
  "orig_nbformat": 4,
  "vscode": {
   "interpreter": {
    "hash": "36cf16204b8548560b1c020c4e8fb5b57f0e4c58016f52f2d4be01e192833930"
   }
  }
 },
 "nbformat": 4,
 "nbformat_minor": 2
}
