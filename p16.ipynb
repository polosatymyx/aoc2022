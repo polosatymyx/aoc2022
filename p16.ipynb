{
 "cells": [
  {
   "cell_type": "code",
   "execution_count": 98,
   "metadata": {},
   "outputs": [],
   "source": [
    "import numpy as np, re\n",
    "from matplotlib import pyplot as plt\n",
    "from functools import reduce\n",
    "from copy import deepcopy"
   ]
  },
  {
   "cell_type": "code",
   "execution_count": 148,
   "metadata": {},
   "outputs": [],
   "source": [
    "\n",
    "def step(valves,minutes=30, valve = 'AA', pressure_released =0, total_power=0, blocked_valves=[]):\n",
    "    valves = reduce_paths(valves=valves, current_valve=valve)\n",
    "    current_valve = valves[valve]\n",
    "    minutes = max(0, minutes)\n",
    "    pressure_released = total_power*(30-minutes)\n",
    "    if not minutes:\n",
    "        return pressure_released\n",
    "    a = [\n",
    "        step(\n",
    "            valves=deepcopy(valves), minutes = minutes-current_valve['neibors'][v],\n",
    "            valve=v,\n",
    "            pressure_released=pressure_released,\n",
    "            total_power=total_power,\n",
    "            blocked_valves=(len(valves[v]['neibors'])>1)*[valve])\n",
    "            for v in current_valve['neibors'] if v not in blocked_valves]\n",
    "    a = max(a)\n",
    "    if current_valve['pressure_released']:\n",
    "        new_valves = deepcopy(valves)\n",
    "        new_valves[valve]['pressure_released'] = 0\n",
    "        b = [\n",
    "            step(\n",
    "                new_valves,\n",
    "                minutes = minutes-current_valve['neibors'][v]-1,\n",
    "                valve=v, pressure_released=pressure_released,\n",
    "                total_power=total_power+current_valve['pressure_released'])\n",
    "                for v in current_valve['neibors']]\n",
    "        b = max(b)\n",
    "        return max(a,b)\n",
    "    return a"
   ]
  },
  {
   "cell_type": "code",
   "execution_count": 151,
   "metadata": {},
   "outputs": [],
   "source": [
    "def reduce_paths(valves, current_valve='AA'):\n",
    "    \n",
    "    modified = True\n",
    "    while modified:\n",
    "        modified = False\n",
    "        to_delete = []\n",
    "        for valve in valves:\n",
    "            if len(valves[valve]['neibors']) ==2 and not valves[valve]['pressure_released'] and not valve == current_valve:\n",
    "                modified = True\n",
    "                nbr = list(valves[valve]['neibors'].items())\n",
    "                dist = nbr[0][1] + nbr[1][1]\n",
    "                valves[nbr[0][0]]['neibors'][nbr[1][0]] = dist\n",
    "                valves[nbr[1][0]]['neibors'][nbr[0][0]] = dist\n",
    "\n",
    "                to_delete.append(valve)\n",
    "                for v in valves:\n",
    "                    try:\n",
    "                        del(valves[v]['neibors'][valve])\n",
    "                    except KeyError:\n",
    "                        pass\n",
    "            if len(valves[valve]['neibors']) ==1 and not valves[valve]['pressure_released'] and not valve == current_valve:\n",
    "                modified = True\n",
    "                to_delete.append(valve)\n",
    "                for v in valves:\n",
    "                    try:\n",
    "                        del(valves[v]['neibors'][valve])\n",
    "                    except KeyError:\n",
    "                        pass\n",
    "        # print(valves)\n",
    "        for v in to_delete:\n",
    "            del(valves[v])\n",
    "                \n",
    "    return valves"
   ]
  },
  {
   "cell_type": "code",
   "execution_count": 152,
   "metadata": {},
   "outputs": [
    {
     "ename": "KeyError",
     "evalue": "'AA'",
     "output_type": "error",
     "traceback": [
      "\u001b[0;31m---------------------------------------------------------------------------\u001b[0m",
      "\u001b[0;31mKeyError\u001b[0m                                  Traceback (most recent call last)",
      "\u001b[1;32m/home/pmyx/advent/p6/p16.ipynb Cell 4\u001b[0m in \u001b[0;36m<cell line: 12>\u001b[0;34m()\u001b[0m\n\u001b[1;32m     <a href='vscode-notebook-cell:/home/pmyx/advent/p6/p16.ipynb#W3sZmlsZQ%3D%3D?line=9'>10</a>\u001b[0m         valves[parsed[\u001b[39m0\u001b[39m]] \u001b[39m=\u001b[39m {\u001b[39m'\u001b[39m\u001b[39mpressure_released\u001b[39m\u001b[39m'\u001b[39m:\u001b[39mint\u001b[39m(parsed[\u001b[39m1\u001b[39m]), \u001b[39m'\u001b[39m\u001b[39mneibors\u001b[39m\u001b[39m'\u001b[39m: reduce(\u001b[39mlambda\u001b[39;00m x,y: x\u001b[39m|\u001b[39my,neibors[\u001b[39m1\u001b[39m:])}\n\u001b[1;32m     <a href='vscode-notebook-cell:/home/pmyx/advent/p6/p16.ipynb#W3sZmlsZQ%3D%3D?line=10'>11</a>\u001b[0m \u001b[39m# valves = reduce_paths(valves=deepcopy(valves))\u001b[39;00m\n\u001b[0;32m---> <a href='vscode-notebook-cell:/home/pmyx/advent/p6/p16.ipynb#W3sZmlsZQ%3D%3D?line=11'>12</a>\u001b[0m step(deepcopy(valves),minutes\u001b[39m=\u001b[39m\u001b[39m15\u001b[39m)\n",
      "\u001b[1;32m/home/pmyx/advent/p6/p16.ipynb Cell 4\u001b[0m in \u001b[0;36mstep\u001b[0;34m(valves, minutes, valve, pressure_released, total_power, blocked_valves)\u001b[0m\n\u001b[1;32m      <a href='vscode-notebook-cell:/home/pmyx/advent/p6/p16.ipynb#W3sZmlsZQ%3D%3D?line=5'>6</a>\u001b[0m \u001b[39mif\u001b[39;00m \u001b[39mnot\u001b[39;00m minutes:\n\u001b[1;32m      <a href='vscode-notebook-cell:/home/pmyx/advent/p6/p16.ipynb#W3sZmlsZQ%3D%3D?line=6'>7</a>\u001b[0m     \u001b[39mreturn\u001b[39;00m pressure_released\n\u001b[0;32m----> <a href='vscode-notebook-cell:/home/pmyx/advent/p6/p16.ipynb#W3sZmlsZQ%3D%3D?line=7'>8</a>\u001b[0m a \u001b[39m=\u001b[39m [\n\u001b[1;32m      <a href='vscode-notebook-cell:/home/pmyx/advent/p6/p16.ipynb#W3sZmlsZQ%3D%3D?line=8'>9</a>\u001b[0m     step(\n\u001b[1;32m     <a href='vscode-notebook-cell:/home/pmyx/advent/p6/p16.ipynb#W3sZmlsZQ%3D%3D?line=9'>10</a>\u001b[0m         valves\u001b[39m=\u001b[39mdeepcopy(valves), minutes \u001b[39m=\u001b[39m minutes\u001b[39m-\u001b[39mcurrent_valve[\u001b[39m'\u001b[39m\u001b[39mneibors\u001b[39m\u001b[39m'\u001b[39m][v],\n\u001b[1;32m     <a href='vscode-notebook-cell:/home/pmyx/advent/p6/p16.ipynb#W3sZmlsZQ%3D%3D?line=10'>11</a>\u001b[0m         valve\u001b[39m=\u001b[39mv,\n\u001b[1;32m     <a href='vscode-notebook-cell:/home/pmyx/advent/p6/p16.ipynb#W3sZmlsZQ%3D%3D?line=11'>12</a>\u001b[0m         pressure_released\u001b[39m=\u001b[39mpressure_released,\n\u001b[1;32m     <a href='vscode-notebook-cell:/home/pmyx/advent/p6/p16.ipynb#W3sZmlsZQ%3D%3D?line=12'>13</a>\u001b[0m         total_power\u001b[39m=\u001b[39mtotal_power,\n\u001b[1;32m     <a href='vscode-notebook-cell:/home/pmyx/advent/p6/p16.ipynb#W3sZmlsZQ%3D%3D?line=13'>14</a>\u001b[0m         blocked_valves\u001b[39m=\u001b[39m(\u001b[39mlen\u001b[39m(valves[v][\u001b[39m'\u001b[39m\u001b[39mneibors\u001b[39m\u001b[39m'\u001b[39m])\u001b[39m>\u001b[39m\u001b[39m1\u001b[39m)\u001b[39m*\u001b[39m[valve])\n\u001b[1;32m     <a href='vscode-notebook-cell:/home/pmyx/advent/p6/p16.ipynb#W3sZmlsZQ%3D%3D?line=14'>15</a>\u001b[0m         \u001b[39mfor\u001b[39;00m v \u001b[39min\u001b[39;00m current_valve[\u001b[39m'\u001b[39m\u001b[39mneibors\u001b[39m\u001b[39m'\u001b[39m] \u001b[39mif\u001b[39;00m v \u001b[39mnot\u001b[39;00m \u001b[39min\u001b[39;00m blocked_valves]\n\u001b[1;32m     <a href='vscode-notebook-cell:/home/pmyx/advent/p6/p16.ipynb#W3sZmlsZQ%3D%3D?line=15'>16</a>\u001b[0m a \u001b[39m=\u001b[39m \u001b[39mmax\u001b[39m(a)\n\u001b[1;32m     <a href='vscode-notebook-cell:/home/pmyx/advent/p6/p16.ipynb#W3sZmlsZQ%3D%3D?line=16'>17</a>\u001b[0m \u001b[39mif\u001b[39;00m current_valve[\u001b[39m'\u001b[39m\u001b[39mpressure_released\u001b[39m\u001b[39m'\u001b[39m]:\n",
      "\u001b[1;32m/home/pmyx/advent/p6/p16.ipynb Cell 4\u001b[0m in \u001b[0;36m<listcomp>\u001b[0;34m(.0)\u001b[0m\n\u001b[1;32m      <a href='vscode-notebook-cell:/home/pmyx/advent/p6/p16.ipynb#W3sZmlsZQ%3D%3D?line=5'>6</a>\u001b[0m \u001b[39mif\u001b[39;00m \u001b[39mnot\u001b[39;00m minutes:\n\u001b[1;32m      <a href='vscode-notebook-cell:/home/pmyx/advent/p6/p16.ipynb#W3sZmlsZQ%3D%3D?line=6'>7</a>\u001b[0m     \u001b[39mreturn\u001b[39;00m pressure_released\n\u001b[1;32m      <a href='vscode-notebook-cell:/home/pmyx/advent/p6/p16.ipynb#W3sZmlsZQ%3D%3D?line=7'>8</a>\u001b[0m a \u001b[39m=\u001b[39m [\n\u001b[0;32m----> <a href='vscode-notebook-cell:/home/pmyx/advent/p6/p16.ipynb#W3sZmlsZQ%3D%3D?line=8'>9</a>\u001b[0m     step(\n\u001b[1;32m     <a href='vscode-notebook-cell:/home/pmyx/advent/p6/p16.ipynb#W3sZmlsZQ%3D%3D?line=9'>10</a>\u001b[0m         valves\u001b[39m=\u001b[39;49mdeepcopy(valves), minutes \u001b[39m=\u001b[39;49m minutes\u001b[39m-\u001b[39;49mcurrent_valve[\u001b[39m'\u001b[39;49m\u001b[39mneibors\u001b[39;49m\u001b[39m'\u001b[39;49m][v],\n\u001b[1;32m     <a href='vscode-notebook-cell:/home/pmyx/advent/p6/p16.ipynb#W3sZmlsZQ%3D%3D?line=10'>11</a>\u001b[0m         valve\u001b[39m=\u001b[39;49mv,\n\u001b[1;32m     <a href='vscode-notebook-cell:/home/pmyx/advent/p6/p16.ipynb#W3sZmlsZQ%3D%3D?line=11'>12</a>\u001b[0m         pressure_released\u001b[39m=\u001b[39;49mpressure_released,\n\u001b[1;32m     <a href='vscode-notebook-cell:/home/pmyx/advent/p6/p16.ipynb#W3sZmlsZQ%3D%3D?line=12'>13</a>\u001b[0m         total_power\u001b[39m=\u001b[39;49mtotal_power,\n\u001b[1;32m     <a href='vscode-notebook-cell:/home/pmyx/advent/p6/p16.ipynb#W3sZmlsZQ%3D%3D?line=13'>14</a>\u001b[0m         blocked_valves\u001b[39m=\u001b[39;49m(\u001b[39mlen\u001b[39;49m(valves[v][\u001b[39m'\u001b[39;49m\u001b[39mneibors\u001b[39;49m\u001b[39m'\u001b[39;49m])\u001b[39m>\u001b[39;49m\u001b[39m1\u001b[39;49m)\u001b[39m*\u001b[39;49m[valve])\n\u001b[1;32m     <a href='vscode-notebook-cell:/home/pmyx/advent/p6/p16.ipynb#W3sZmlsZQ%3D%3D?line=14'>15</a>\u001b[0m         \u001b[39mfor\u001b[39;00m v \u001b[39min\u001b[39;00m current_valve[\u001b[39m'\u001b[39m\u001b[39mneibors\u001b[39m\u001b[39m'\u001b[39m] \u001b[39mif\u001b[39;00m v \u001b[39mnot\u001b[39;00m \u001b[39min\u001b[39;00m blocked_valves]\n\u001b[1;32m     <a href='vscode-notebook-cell:/home/pmyx/advent/p6/p16.ipynb#W3sZmlsZQ%3D%3D?line=15'>16</a>\u001b[0m a \u001b[39m=\u001b[39m \u001b[39mmax\u001b[39m(a)\n\u001b[1;32m     <a href='vscode-notebook-cell:/home/pmyx/advent/p6/p16.ipynb#W3sZmlsZQ%3D%3D?line=16'>17</a>\u001b[0m \u001b[39mif\u001b[39;00m current_valve[\u001b[39m'\u001b[39m\u001b[39mpressure_released\u001b[39m\u001b[39m'\u001b[39m]:\n",
      "\u001b[1;32m/home/pmyx/advent/p6/p16.ipynb Cell 4\u001b[0m in \u001b[0;36mstep\u001b[0;34m(valves, minutes, valve, pressure_released, total_power, blocked_valves)\u001b[0m\n\u001b[1;32m      <a href='vscode-notebook-cell:/home/pmyx/advent/p6/p16.ipynb#W3sZmlsZQ%3D%3D?line=5'>6</a>\u001b[0m \u001b[39mif\u001b[39;00m \u001b[39mnot\u001b[39;00m minutes:\n\u001b[1;32m      <a href='vscode-notebook-cell:/home/pmyx/advent/p6/p16.ipynb#W3sZmlsZQ%3D%3D?line=6'>7</a>\u001b[0m     \u001b[39mreturn\u001b[39;00m pressure_released\n\u001b[0;32m----> <a href='vscode-notebook-cell:/home/pmyx/advent/p6/p16.ipynb#W3sZmlsZQ%3D%3D?line=7'>8</a>\u001b[0m a \u001b[39m=\u001b[39m [\n\u001b[1;32m      <a href='vscode-notebook-cell:/home/pmyx/advent/p6/p16.ipynb#W3sZmlsZQ%3D%3D?line=8'>9</a>\u001b[0m     step(\n\u001b[1;32m     <a href='vscode-notebook-cell:/home/pmyx/advent/p6/p16.ipynb#W3sZmlsZQ%3D%3D?line=9'>10</a>\u001b[0m         valves\u001b[39m=\u001b[39mdeepcopy(valves), minutes \u001b[39m=\u001b[39m minutes\u001b[39m-\u001b[39mcurrent_valve[\u001b[39m'\u001b[39m\u001b[39mneibors\u001b[39m\u001b[39m'\u001b[39m][v],\n\u001b[1;32m     <a href='vscode-notebook-cell:/home/pmyx/advent/p6/p16.ipynb#W3sZmlsZQ%3D%3D?line=10'>11</a>\u001b[0m         valve\u001b[39m=\u001b[39mv,\n\u001b[1;32m     <a href='vscode-notebook-cell:/home/pmyx/advent/p6/p16.ipynb#W3sZmlsZQ%3D%3D?line=11'>12</a>\u001b[0m         pressure_released\u001b[39m=\u001b[39mpressure_released,\n\u001b[1;32m     <a href='vscode-notebook-cell:/home/pmyx/advent/p6/p16.ipynb#W3sZmlsZQ%3D%3D?line=12'>13</a>\u001b[0m         total_power\u001b[39m=\u001b[39mtotal_power,\n\u001b[1;32m     <a href='vscode-notebook-cell:/home/pmyx/advent/p6/p16.ipynb#W3sZmlsZQ%3D%3D?line=13'>14</a>\u001b[0m         blocked_valves\u001b[39m=\u001b[39m(\u001b[39mlen\u001b[39m(valves[v][\u001b[39m'\u001b[39m\u001b[39mneibors\u001b[39m\u001b[39m'\u001b[39m])\u001b[39m>\u001b[39m\u001b[39m1\u001b[39m)\u001b[39m*\u001b[39m[valve])\n\u001b[1;32m     <a href='vscode-notebook-cell:/home/pmyx/advent/p6/p16.ipynb#W3sZmlsZQ%3D%3D?line=14'>15</a>\u001b[0m         \u001b[39mfor\u001b[39;00m v \u001b[39min\u001b[39;00m current_valve[\u001b[39m'\u001b[39m\u001b[39mneibors\u001b[39m\u001b[39m'\u001b[39m] \u001b[39mif\u001b[39;00m v \u001b[39mnot\u001b[39;00m \u001b[39min\u001b[39;00m blocked_valves]\n\u001b[1;32m     <a href='vscode-notebook-cell:/home/pmyx/advent/p6/p16.ipynb#W3sZmlsZQ%3D%3D?line=15'>16</a>\u001b[0m a \u001b[39m=\u001b[39m \u001b[39mmax\u001b[39m(a)\n\u001b[1;32m     <a href='vscode-notebook-cell:/home/pmyx/advent/p6/p16.ipynb#W3sZmlsZQ%3D%3D?line=16'>17</a>\u001b[0m \u001b[39mif\u001b[39;00m current_valve[\u001b[39m'\u001b[39m\u001b[39mpressure_released\u001b[39m\u001b[39m'\u001b[39m]:\n",
      "\u001b[1;32m/home/pmyx/advent/p6/p16.ipynb Cell 4\u001b[0m in \u001b[0;36m<listcomp>\u001b[0;34m(.0)\u001b[0m\n\u001b[1;32m      <a href='vscode-notebook-cell:/home/pmyx/advent/p6/p16.ipynb#W3sZmlsZQ%3D%3D?line=5'>6</a>\u001b[0m \u001b[39mif\u001b[39;00m \u001b[39mnot\u001b[39;00m minutes:\n\u001b[1;32m      <a href='vscode-notebook-cell:/home/pmyx/advent/p6/p16.ipynb#W3sZmlsZQ%3D%3D?line=6'>7</a>\u001b[0m     \u001b[39mreturn\u001b[39;00m pressure_released\n\u001b[1;32m      <a href='vscode-notebook-cell:/home/pmyx/advent/p6/p16.ipynb#W3sZmlsZQ%3D%3D?line=7'>8</a>\u001b[0m a \u001b[39m=\u001b[39m [\n\u001b[0;32m----> <a href='vscode-notebook-cell:/home/pmyx/advent/p6/p16.ipynb#W3sZmlsZQ%3D%3D?line=8'>9</a>\u001b[0m     step(\n\u001b[1;32m     <a href='vscode-notebook-cell:/home/pmyx/advent/p6/p16.ipynb#W3sZmlsZQ%3D%3D?line=9'>10</a>\u001b[0m         valves\u001b[39m=\u001b[39;49mdeepcopy(valves), minutes \u001b[39m=\u001b[39;49m minutes\u001b[39m-\u001b[39;49mcurrent_valve[\u001b[39m'\u001b[39;49m\u001b[39mneibors\u001b[39;49m\u001b[39m'\u001b[39;49m][v],\n\u001b[1;32m     <a href='vscode-notebook-cell:/home/pmyx/advent/p6/p16.ipynb#W3sZmlsZQ%3D%3D?line=10'>11</a>\u001b[0m         valve\u001b[39m=\u001b[39;49mv,\n\u001b[1;32m     <a href='vscode-notebook-cell:/home/pmyx/advent/p6/p16.ipynb#W3sZmlsZQ%3D%3D?line=11'>12</a>\u001b[0m         pressure_released\u001b[39m=\u001b[39;49mpressure_released,\n\u001b[1;32m     <a href='vscode-notebook-cell:/home/pmyx/advent/p6/p16.ipynb#W3sZmlsZQ%3D%3D?line=12'>13</a>\u001b[0m         total_power\u001b[39m=\u001b[39;49mtotal_power,\n\u001b[1;32m     <a href='vscode-notebook-cell:/home/pmyx/advent/p6/p16.ipynb#W3sZmlsZQ%3D%3D?line=13'>14</a>\u001b[0m         blocked_valves\u001b[39m=\u001b[39;49m(\u001b[39mlen\u001b[39;49m(valves[v][\u001b[39m'\u001b[39;49m\u001b[39mneibors\u001b[39;49m\u001b[39m'\u001b[39;49m])\u001b[39m>\u001b[39;49m\u001b[39m1\u001b[39;49m)\u001b[39m*\u001b[39;49m[valve])\n\u001b[1;32m     <a href='vscode-notebook-cell:/home/pmyx/advent/p6/p16.ipynb#W3sZmlsZQ%3D%3D?line=14'>15</a>\u001b[0m         \u001b[39mfor\u001b[39;00m v \u001b[39min\u001b[39;00m current_valve[\u001b[39m'\u001b[39m\u001b[39mneibors\u001b[39m\u001b[39m'\u001b[39m] \u001b[39mif\u001b[39;00m v \u001b[39mnot\u001b[39;00m \u001b[39min\u001b[39;00m blocked_valves]\n\u001b[1;32m     <a href='vscode-notebook-cell:/home/pmyx/advent/p6/p16.ipynb#W3sZmlsZQ%3D%3D?line=15'>16</a>\u001b[0m a \u001b[39m=\u001b[39m \u001b[39mmax\u001b[39m(a)\n\u001b[1;32m     <a href='vscode-notebook-cell:/home/pmyx/advent/p6/p16.ipynb#W3sZmlsZQ%3D%3D?line=16'>17</a>\u001b[0m \u001b[39mif\u001b[39;00m current_valve[\u001b[39m'\u001b[39m\u001b[39mpressure_released\u001b[39m\u001b[39m'\u001b[39m]:\n",
      "    \u001b[0;31m[... skipping similar frames: <listcomp> at line 9 (8 times), step at line 8 (8 times)]\u001b[0m\n",
      "\u001b[1;32m/home/pmyx/advent/p6/p16.ipynb Cell 4\u001b[0m in \u001b[0;36mstep\u001b[0;34m(valves, minutes, valve, pressure_released, total_power, blocked_valves)\u001b[0m\n\u001b[1;32m      <a href='vscode-notebook-cell:/home/pmyx/advent/p6/p16.ipynb#W3sZmlsZQ%3D%3D?line=5'>6</a>\u001b[0m \u001b[39mif\u001b[39;00m \u001b[39mnot\u001b[39;00m minutes:\n\u001b[1;32m      <a href='vscode-notebook-cell:/home/pmyx/advent/p6/p16.ipynb#W3sZmlsZQ%3D%3D?line=6'>7</a>\u001b[0m     \u001b[39mreturn\u001b[39;00m pressure_released\n\u001b[0;32m----> <a href='vscode-notebook-cell:/home/pmyx/advent/p6/p16.ipynb#W3sZmlsZQ%3D%3D?line=7'>8</a>\u001b[0m a \u001b[39m=\u001b[39m [\n\u001b[1;32m      <a href='vscode-notebook-cell:/home/pmyx/advent/p6/p16.ipynb#W3sZmlsZQ%3D%3D?line=8'>9</a>\u001b[0m     step(\n\u001b[1;32m     <a href='vscode-notebook-cell:/home/pmyx/advent/p6/p16.ipynb#W3sZmlsZQ%3D%3D?line=9'>10</a>\u001b[0m         valves\u001b[39m=\u001b[39mdeepcopy(valves), minutes \u001b[39m=\u001b[39m minutes\u001b[39m-\u001b[39mcurrent_valve[\u001b[39m'\u001b[39m\u001b[39mneibors\u001b[39m\u001b[39m'\u001b[39m][v],\n\u001b[1;32m     <a href='vscode-notebook-cell:/home/pmyx/advent/p6/p16.ipynb#W3sZmlsZQ%3D%3D?line=10'>11</a>\u001b[0m         valve\u001b[39m=\u001b[39mv,\n\u001b[1;32m     <a href='vscode-notebook-cell:/home/pmyx/advent/p6/p16.ipynb#W3sZmlsZQ%3D%3D?line=11'>12</a>\u001b[0m         pressure_released\u001b[39m=\u001b[39mpressure_released,\n\u001b[1;32m     <a href='vscode-notebook-cell:/home/pmyx/advent/p6/p16.ipynb#W3sZmlsZQ%3D%3D?line=12'>13</a>\u001b[0m         total_power\u001b[39m=\u001b[39mtotal_power,\n\u001b[1;32m     <a href='vscode-notebook-cell:/home/pmyx/advent/p6/p16.ipynb#W3sZmlsZQ%3D%3D?line=13'>14</a>\u001b[0m         blocked_valves\u001b[39m=\u001b[39m(\u001b[39mlen\u001b[39m(valves[v][\u001b[39m'\u001b[39m\u001b[39mneibors\u001b[39m\u001b[39m'\u001b[39m])\u001b[39m>\u001b[39m\u001b[39m1\u001b[39m)\u001b[39m*\u001b[39m[valve])\n\u001b[1;32m     <a href='vscode-notebook-cell:/home/pmyx/advent/p6/p16.ipynb#W3sZmlsZQ%3D%3D?line=14'>15</a>\u001b[0m         \u001b[39mfor\u001b[39;00m v \u001b[39min\u001b[39;00m current_valve[\u001b[39m'\u001b[39m\u001b[39mneibors\u001b[39m\u001b[39m'\u001b[39m] \u001b[39mif\u001b[39;00m v \u001b[39mnot\u001b[39;00m \u001b[39min\u001b[39;00m blocked_valves]\n\u001b[1;32m     <a href='vscode-notebook-cell:/home/pmyx/advent/p6/p16.ipynb#W3sZmlsZQ%3D%3D?line=15'>16</a>\u001b[0m a \u001b[39m=\u001b[39m \u001b[39mmax\u001b[39m(a)\n\u001b[1;32m     <a href='vscode-notebook-cell:/home/pmyx/advent/p6/p16.ipynb#W3sZmlsZQ%3D%3D?line=16'>17</a>\u001b[0m \u001b[39mif\u001b[39;00m current_valve[\u001b[39m'\u001b[39m\u001b[39mpressure_released\u001b[39m\u001b[39m'\u001b[39m]:\n",
      "\u001b[1;32m/home/pmyx/advent/p6/p16.ipynb Cell 4\u001b[0m in \u001b[0;36m<listcomp>\u001b[0;34m(.0)\u001b[0m\n\u001b[1;32m      <a href='vscode-notebook-cell:/home/pmyx/advent/p6/p16.ipynb#W3sZmlsZQ%3D%3D?line=5'>6</a>\u001b[0m \u001b[39mif\u001b[39;00m \u001b[39mnot\u001b[39;00m minutes:\n\u001b[1;32m      <a href='vscode-notebook-cell:/home/pmyx/advent/p6/p16.ipynb#W3sZmlsZQ%3D%3D?line=6'>7</a>\u001b[0m     \u001b[39mreturn\u001b[39;00m pressure_released\n\u001b[1;32m      <a href='vscode-notebook-cell:/home/pmyx/advent/p6/p16.ipynb#W3sZmlsZQ%3D%3D?line=7'>8</a>\u001b[0m a \u001b[39m=\u001b[39m [\n\u001b[0;32m----> <a href='vscode-notebook-cell:/home/pmyx/advent/p6/p16.ipynb#W3sZmlsZQ%3D%3D?line=8'>9</a>\u001b[0m     step(\n\u001b[1;32m     <a href='vscode-notebook-cell:/home/pmyx/advent/p6/p16.ipynb#W3sZmlsZQ%3D%3D?line=9'>10</a>\u001b[0m         valves\u001b[39m=\u001b[39;49mdeepcopy(valves), minutes \u001b[39m=\u001b[39;49m minutes\u001b[39m-\u001b[39;49mcurrent_valve[\u001b[39m'\u001b[39;49m\u001b[39mneibors\u001b[39;49m\u001b[39m'\u001b[39;49m][v],\n\u001b[1;32m     <a href='vscode-notebook-cell:/home/pmyx/advent/p6/p16.ipynb#W3sZmlsZQ%3D%3D?line=10'>11</a>\u001b[0m         valve\u001b[39m=\u001b[39;49mv,\n\u001b[1;32m     <a href='vscode-notebook-cell:/home/pmyx/advent/p6/p16.ipynb#W3sZmlsZQ%3D%3D?line=11'>12</a>\u001b[0m         pressure_released\u001b[39m=\u001b[39;49mpressure_released,\n\u001b[1;32m     <a href='vscode-notebook-cell:/home/pmyx/advent/p6/p16.ipynb#W3sZmlsZQ%3D%3D?line=12'>13</a>\u001b[0m         total_power\u001b[39m=\u001b[39;49mtotal_power,\n\u001b[1;32m     <a href='vscode-notebook-cell:/home/pmyx/advent/p6/p16.ipynb#W3sZmlsZQ%3D%3D?line=13'>14</a>\u001b[0m         blocked_valves\u001b[39m=\u001b[39;49m(\u001b[39mlen\u001b[39;49m(valves[v][\u001b[39m'\u001b[39;49m\u001b[39mneibors\u001b[39;49m\u001b[39m'\u001b[39;49m])\u001b[39m>\u001b[39;49m\u001b[39m1\u001b[39;49m)\u001b[39m*\u001b[39;49m[valve])\n\u001b[1;32m     <a href='vscode-notebook-cell:/home/pmyx/advent/p6/p16.ipynb#W3sZmlsZQ%3D%3D?line=14'>15</a>\u001b[0m         \u001b[39mfor\u001b[39;00m v \u001b[39min\u001b[39;00m current_valve[\u001b[39m'\u001b[39m\u001b[39mneibors\u001b[39m\u001b[39m'\u001b[39m] \u001b[39mif\u001b[39;00m v \u001b[39mnot\u001b[39;00m \u001b[39min\u001b[39;00m blocked_valves]\n\u001b[1;32m     <a href='vscode-notebook-cell:/home/pmyx/advent/p6/p16.ipynb#W3sZmlsZQ%3D%3D?line=15'>16</a>\u001b[0m a \u001b[39m=\u001b[39m \u001b[39mmax\u001b[39m(a)\n\u001b[1;32m     <a href='vscode-notebook-cell:/home/pmyx/advent/p6/p16.ipynb#W3sZmlsZQ%3D%3D?line=16'>17</a>\u001b[0m \u001b[39mif\u001b[39;00m current_valve[\u001b[39m'\u001b[39m\u001b[39mpressure_released\u001b[39m\u001b[39m'\u001b[39m]:\n",
      "\u001b[1;32m/home/pmyx/advent/p6/p16.ipynb Cell 4\u001b[0m in \u001b[0;36mstep\u001b[0;34m(valves, minutes, valve, pressure_released, total_power, blocked_valves)\u001b[0m\n\u001b[1;32m     <a href='vscode-notebook-cell:/home/pmyx/advent/p6/p16.ipynb#W3sZmlsZQ%3D%3D?line=17'>18</a>\u001b[0m new_valves \u001b[39m=\u001b[39m deepcopy(valves)\n\u001b[1;32m     <a href='vscode-notebook-cell:/home/pmyx/advent/p6/p16.ipynb#W3sZmlsZQ%3D%3D?line=18'>19</a>\u001b[0m new_valves[valve][\u001b[39m'\u001b[39m\u001b[39mpressure_released\u001b[39m\u001b[39m'\u001b[39m] \u001b[39m=\u001b[39m \u001b[39m0\u001b[39m\n\u001b[0;32m---> <a href='vscode-notebook-cell:/home/pmyx/advent/p6/p16.ipynb#W3sZmlsZQ%3D%3D?line=19'>20</a>\u001b[0m b \u001b[39m=\u001b[39m [\n\u001b[1;32m     <a href='vscode-notebook-cell:/home/pmyx/advent/p6/p16.ipynb#W3sZmlsZQ%3D%3D?line=20'>21</a>\u001b[0m     step(\n\u001b[1;32m     <a href='vscode-notebook-cell:/home/pmyx/advent/p6/p16.ipynb#W3sZmlsZQ%3D%3D?line=21'>22</a>\u001b[0m         new_valves,\n\u001b[1;32m     <a href='vscode-notebook-cell:/home/pmyx/advent/p6/p16.ipynb#W3sZmlsZQ%3D%3D?line=22'>23</a>\u001b[0m         minutes \u001b[39m=\u001b[39m minutes\u001b[39m-\u001b[39mcurrent_valve[\u001b[39m'\u001b[39m\u001b[39mneibors\u001b[39m\u001b[39m'\u001b[39m][v]\u001b[39m-\u001b[39m\u001b[39m1\u001b[39m,\n\u001b[1;32m     <a href='vscode-notebook-cell:/home/pmyx/advent/p6/p16.ipynb#W3sZmlsZQ%3D%3D?line=23'>24</a>\u001b[0m         valve\u001b[39m=\u001b[39mv, pressure_released\u001b[39m=\u001b[39mpressure_released,\n\u001b[1;32m     <a href='vscode-notebook-cell:/home/pmyx/advent/p6/p16.ipynb#W3sZmlsZQ%3D%3D?line=24'>25</a>\u001b[0m         total_power\u001b[39m=\u001b[39mtotal_power\u001b[39m+\u001b[39mcurrent_valve[\u001b[39m'\u001b[39m\u001b[39mpressure_released\u001b[39m\u001b[39m'\u001b[39m])\n\u001b[1;32m     <a href='vscode-notebook-cell:/home/pmyx/advent/p6/p16.ipynb#W3sZmlsZQ%3D%3D?line=25'>26</a>\u001b[0m         \u001b[39mfor\u001b[39;00m v \u001b[39min\u001b[39;00m current_valve[\u001b[39m'\u001b[39m\u001b[39mneibors\u001b[39m\u001b[39m'\u001b[39m]]\n\u001b[1;32m     <a href='vscode-notebook-cell:/home/pmyx/advent/p6/p16.ipynb#W3sZmlsZQ%3D%3D?line=26'>27</a>\u001b[0m b \u001b[39m=\u001b[39m \u001b[39mmax\u001b[39m(b)\n\u001b[1;32m     <a href='vscode-notebook-cell:/home/pmyx/advent/p6/p16.ipynb#W3sZmlsZQ%3D%3D?line=27'>28</a>\u001b[0m \u001b[39mreturn\u001b[39;00m \u001b[39mmax\u001b[39m(a,b)\n",
      "\u001b[1;32m/home/pmyx/advent/p6/p16.ipynb Cell 4\u001b[0m in \u001b[0;36m<listcomp>\u001b[0;34m(.0)\u001b[0m\n\u001b[1;32m     <a href='vscode-notebook-cell:/home/pmyx/advent/p6/p16.ipynb#W3sZmlsZQ%3D%3D?line=17'>18</a>\u001b[0m new_valves \u001b[39m=\u001b[39m deepcopy(valves)\n\u001b[1;32m     <a href='vscode-notebook-cell:/home/pmyx/advent/p6/p16.ipynb#W3sZmlsZQ%3D%3D?line=18'>19</a>\u001b[0m new_valves[valve][\u001b[39m'\u001b[39m\u001b[39mpressure_released\u001b[39m\u001b[39m'\u001b[39m] \u001b[39m=\u001b[39m \u001b[39m0\u001b[39m\n\u001b[1;32m     <a href='vscode-notebook-cell:/home/pmyx/advent/p6/p16.ipynb#W3sZmlsZQ%3D%3D?line=19'>20</a>\u001b[0m b \u001b[39m=\u001b[39m [\n\u001b[0;32m---> <a href='vscode-notebook-cell:/home/pmyx/advent/p6/p16.ipynb#W3sZmlsZQ%3D%3D?line=20'>21</a>\u001b[0m     step(\n\u001b[1;32m     <a href='vscode-notebook-cell:/home/pmyx/advent/p6/p16.ipynb#W3sZmlsZQ%3D%3D?line=21'>22</a>\u001b[0m         new_valves,\n\u001b[1;32m     <a href='vscode-notebook-cell:/home/pmyx/advent/p6/p16.ipynb#W3sZmlsZQ%3D%3D?line=22'>23</a>\u001b[0m         minutes \u001b[39m=\u001b[39;49m minutes\u001b[39m-\u001b[39;49mcurrent_valve[\u001b[39m'\u001b[39;49m\u001b[39mneibors\u001b[39;49m\u001b[39m'\u001b[39;49m][v]\u001b[39m-\u001b[39;49m\u001b[39m1\u001b[39;49m,\n\u001b[1;32m     <a href='vscode-notebook-cell:/home/pmyx/advent/p6/p16.ipynb#W3sZmlsZQ%3D%3D?line=23'>24</a>\u001b[0m         valve\u001b[39m=\u001b[39;49mv, pressure_released\u001b[39m=\u001b[39;49mpressure_released,\n\u001b[1;32m     <a href='vscode-notebook-cell:/home/pmyx/advent/p6/p16.ipynb#W3sZmlsZQ%3D%3D?line=24'>25</a>\u001b[0m         total_power\u001b[39m=\u001b[39;49mtotal_power\u001b[39m+\u001b[39;49mcurrent_valve[\u001b[39m'\u001b[39;49m\u001b[39mpressure_released\u001b[39;49m\u001b[39m'\u001b[39;49m])\n\u001b[1;32m     <a href='vscode-notebook-cell:/home/pmyx/advent/p6/p16.ipynb#W3sZmlsZQ%3D%3D?line=25'>26</a>\u001b[0m         \u001b[39mfor\u001b[39;00m v \u001b[39min\u001b[39;00m current_valve[\u001b[39m'\u001b[39m\u001b[39mneibors\u001b[39m\u001b[39m'\u001b[39m]]\n\u001b[1;32m     <a href='vscode-notebook-cell:/home/pmyx/advent/p6/p16.ipynb#W3sZmlsZQ%3D%3D?line=26'>27</a>\u001b[0m b \u001b[39m=\u001b[39m \u001b[39mmax\u001b[39m(b)\n\u001b[1;32m     <a href='vscode-notebook-cell:/home/pmyx/advent/p6/p16.ipynb#W3sZmlsZQ%3D%3D?line=27'>28</a>\u001b[0m \u001b[39mreturn\u001b[39;00m \u001b[39mmax\u001b[39m(a,b)\n",
      "\u001b[1;32m/home/pmyx/advent/p6/p16.ipynb Cell 4\u001b[0m in \u001b[0;36mstep\u001b[0;34m(valves, minutes, valve, pressure_released, total_power, blocked_valves)\u001b[0m\n\u001b[1;32m     <a href='vscode-notebook-cell:/home/pmyx/advent/p6/p16.ipynb#W3sZmlsZQ%3D%3D?line=17'>18</a>\u001b[0m new_valves \u001b[39m=\u001b[39m deepcopy(valves)\n\u001b[1;32m     <a href='vscode-notebook-cell:/home/pmyx/advent/p6/p16.ipynb#W3sZmlsZQ%3D%3D?line=18'>19</a>\u001b[0m new_valves[valve][\u001b[39m'\u001b[39m\u001b[39mpressure_released\u001b[39m\u001b[39m'\u001b[39m] \u001b[39m=\u001b[39m \u001b[39m0\u001b[39m\n\u001b[0;32m---> <a href='vscode-notebook-cell:/home/pmyx/advent/p6/p16.ipynb#W3sZmlsZQ%3D%3D?line=19'>20</a>\u001b[0m b \u001b[39m=\u001b[39m [\n\u001b[1;32m     <a href='vscode-notebook-cell:/home/pmyx/advent/p6/p16.ipynb#W3sZmlsZQ%3D%3D?line=20'>21</a>\u001b[0m     step(\n\u001b[1;32m     <a href='vscode-notebook-cell:/home/pmyx/advent/p6/p16.ipynb#W3sZmlsZQ%3D%3D?line=21'>22</a>\u001b[0m         new_valves,\n\u001b[1;32m     <a href='vscode-notebook-cell:/home/pmyx/advent/p6/p16.ipynb#W3sZmlsZQ%3D%3D?line=22'>23</a>\u001b[0m         minutes \u001b[39m=\u001b[39m minutes\u001b[39m-\u001b[39mcurrent_valve[\u001b[39m'\u001b[39m\u001b[39mneibors\u001b[39m\u001b[39m'\u001b[39m][v]\u001b[39m-\u001b[39m\u001b[39m1\u001b[39m,\n\u001b[1;32m     <a href='vscode-notebook-cell:/home/pmyx/advent/p6/p16.ipynb#W3sZmlsZQ%3D%3D?line=23'>24</a>\u001b[0m         valve\u001b[39m=\u001b[39mv, pressure_released\u001b[39m=\u001b[39mpressure_released,\n\u001b[1;32m     <a href='vscode-notebook-cell:/home/pmyx/advent/p6/p16.ipynb#W3sZmlsZQ%3D%3D?line=24'>25</a>\u001b[0m         total_power\u001b[39m=\u001b[39mtotal_power\u001b[39m+\u001b[39mcurrent_valve[\u001b[39m'\u001b[39m\u001b[39mpressure_released\u001b[39m\u001b[39m'\u001b[39m])\n\u001b[1;32m     <a href='vscode-notebook-cell:/home/pmyx/advent/p6/p16.ipynb#W3sZmlsZQ%3D%3D?line=25'>26</a>\u001b[0m         \u001b[39mfor\u001b[39;00m v \u001b[39min\u001b[39;00m current_valve[\u001b[39m'\u001b[39m\u001b[39mneibors\u001b[39m\u001b[39m'\u001b[39m]]\n\u001b[1;32m     <a href='vscode-notebook-cell:/home/pmyx/advent/p6/p16.ipynb#W3sZmlsZQ%3D%3D?line=26'>27</a>\u001b[0m b \u001b[39m=\u001b[39m \u001b[39mmax\u001b[39m(b)\n\u001b[1;32m     <a href='vscode-notebook-cell:/home/pmyx/advent/p6/p16.ipynb#W3sZmlsZQ%3D%3D?line=27'>28</a>\u001b[0m \u001b[39mreturn\u001b[39;00m \u001b[39mmax\u001b[39m(a,b)\n",
      "\u001b[1;32m/home/pmyx/advent/p6/p16.ipynb Cell 4\u001b[0m in \u001b[0;36m<listcomp>\u001b[0;34m(.0)\u001b[0m\n\u001b[1;32m     <a href='vscode-notebook-cell:/home/pmyx/advent/p6/p16.ipynb#W3sZmlsZQ%3D%3D?line=17'>18</a>\u001b[0m new_valves \u001b[39m=\u001b[39m deepcopy(valves)\n\u001b[1;32m     <a href='vscode-notebook-cell:/home/pmyx/advent/p6/p16.ipynb#W3sZmlsZQ%3D%3D?line=18'>19</a>\u001b[0m new_valves[valve][\u001b[39m'\u001b[39m\u001b[39mpressure_released\u001b[39m\u001b[39m'\u001b[39m] \u001b[39m=\u001b[39m \u001b[39m0\u001b[39m\n\u001b[1;32m     <a href='vscode-notebook-cell:/home/pmyx/advent/p6/p16.ipynb#W3sZmlsZQ%3D%3D?line=19'>20</a>\u001b[0m b \u001b[39m=\u001b[39m [\n\u001b[0;32m---> <a href='vscode-notebook-cell:/home/pmyx/advent/p6/p16.ipynb#W3sZmlsZQ%3D%3D?line=20'>21</a>\u001b[0m     step(\n\u001b[1;32m     <a href='vscode-notebook-cell:/home/pmyx/advent/p6/p16.ipynb#W3sZmlsZQ%3D%3D?line=21'>22</a>\u001b[0m         new_valves,\n\u001b[1;32m     <a href='vscode-notebook-cell:/home/pmyx/advent/p6/p16.ipynb#W3sZmlsZQ%3D%3D?line=22'>23</a>\u001b[0m         minutes \u001b[39m=\u001b[39;49m minutes\u001b[39m-\u001b[39;49mcurrent_valve[\u001b[39m'\u001b[39;49m\u001b[39mneibors\u001b[39;49m\u001b[39m'\u001b[39;49m][v]\u001b[39m-\u001b[39;49m\u001b[39m1\u001b[39;49m,\n\u001b[1;32m     <a href='vscode-notebook-cell:/home/pmyx/advent/p6/p16.ipynb#W3sZmlsZQ%3D%3D?line=23'>24</a>\u001b[0m         valve\u001b[39m=\u001b[39;49mv, pressure_released\u001b[39m=\u001b[39;49mpressure_released,\n\u001b[1;32m     <a href='vscode-notebook-cell:/home/pmyx/advent/p6/p16.ipynb#W3sZmlsZQ%3D%3D?line=24'>25</a>\u001b[0m         total_power\u001b[39m=\u001b[39;49mtotal_power\u001b[39m+\u001b[39;49mcurrent_valve[\u001b[39m'\u001b[39;49m\u001b[39mpressure_released\u001b[39;49m\u001b[39m'\u001b[39;49m])\n\u001b[1;32m     <a href='vscode-notebook-cell:/home/pmyx/advent/p6/p16.ipynb#W3sZmlsZQ%3D%3D?line=25'>26</a>\u001b[0m         \u001b[39mfor\u001b[39;00m v \u001b[39min\u001b[39;00m current_valve[\u001b[39m'\u001b[39m\u001b[39mneibors\u001b[39m\u001b[39m'\u001b[39m]]\n\u001b[1;32m     <a href='vscode-notebook-cell:/home/pmyx/advent/p6/p16.ipynb#W3sZmlsZQ%3D%3D?line=26'>27</a>\u001b[0m b \u001b[39m=\u001b[39m \u001b[39mmax\u001b[39m(b)\n\u001b[1;32m     <a href='vscode-notebook-cell:/home/pmyx/advent/p6/p16.ipynb#W3sZmlsZQ%3D%3D?line=27'>28</a>\u001b[0m \u001b[39mreturn\u001b[39;00m \u001b[39mmax\u001b[39m(a,b)\n",
      "\u001b[1;32m/home/pmyx/advent/p6/p16.ipynb Cell 4\u001b[0m in \u001b[0;36mstep\u001b[0;34m(valves, minutes, valve, pressure_released, total_power, blocked_valves)\u001b[0m\n\u001b[1;32m      <a href='vscode-notebook-cell:/home/pmyx/advent/p6/p16.ipynb#W3sZmlsZQ%3D%3D?line=0'>1</a>\u001b[0m \u001b[39mdef\u001b[39;00m \u001b[39mstep\u001b[39m(valves,minutes\u001b[39m=\u001b[39m\u001b[39m30\u001b[39m, valve \u001b[39m=\u001b[39m \u001b[39m'\u001b[39m\u001b[39mAA\u001b[39m\u001b[39m'\u001b[39m, pressure_released \u001b[39m=\u001b[39m\u001b[39m0\u001b[39m, total_power\u001b[39m=\u001b[39m\u001b[39m0\u001b[39m, blocked_valves\u001b[39m=\u001b[39m[]):\n\u001b[1;32m      <a href='vscode-notebook-cell:/home/pmyx/advent/p6/p16.ipynb#W3sZmlsZQ%3D%3D?line=1'>2</a>\u001b[0m     valves \u001b[39m=\u001b[39m reduce_paths(valves\u001b[39m=\u001b[39mvalves, current_valve\u001b[39m=\u001b[39mvalve)\n\u001b[0;32m----> <a href='vscode-notebook-cell:/home/pmyx/advent/p6/p16.ipynb#W3sZmlsZQ%3D%3D?line=2'>3</a>\u001b[0m     current_valve \u001b[39m=\u001b[39m valves[valve]\n\u001b[1;32m      <a href='vscode-notebook-cell:/home/pmyx/advent/p6/p16.ipynb#W3sZmlsZQ%3D%3D?line=3'>4</a>\u001b[0m     minutes \u001b[39m=\u001b[39m \u001b[39mmax\u001b[39m(\u001b[39m0\u001b[39m, minutes)\n\u001b[1;32m      <a href='vscode-notebook-cell:/home/pmyx/advent/p6/p16.ipynb#W3sZmlsZQ%3D%3D?line=4'>5</a>\u001b[0m     pressure_released \u001b[39m=\u001b[39m total_power\u001b[39m*\u001b[39m(\u001b[39m30\u001b[39m\u001b[39m-\u001b[39mminutes)\n",
      "\u001b[0;31mKeyError\u001b[0m: 'AA'"
     ]
    }
   ],
   "source": [
    "input = open('p16.txt', mode='r').readlines()\n",
    "valves = {}\n",
    "for line in input:\n",
    "    if line:\n",
    "        # print(line)\n",
    "        parsed = re.findall(r'Valve ([A-Z][A-Z]) has flow rate=(\\d+)', line)[0]\n",
    "        neibors = re.findall(r'([A-Z][A-Z])', line)\n",
    "        neibors = [{n: 1} for n in neibors]\n",
    "        # print(neibors)\n",
    "        valves[parsed[0]] = {'pressure_released':int(parsed[1]), 'neibors': reduce(lambda x,y: x|y,neibors[1:])}\n",
    "# valves = reduce_paths(valves=deepcopy(valves))\n",
    "step(deepcopy(valves),minutes=15)"
   ]
  },
  {
   "cell_type": "code",
   "execution_count": 142,
   "metadata": {},
   "outputs": [
    {
     "data": {
      "text/plain": [
       "{'AA': {'pressure_released': 0, 'neibors': {'DD': 1, 'BB': 1, 'JJ': 2}},\n",
       " 'BB': {'pressure_released': 13, 'neibors': {'CC': 1, 'AA': 1}},\n",
       " 'CC': {'pressure_released': 2, 'neibors': {'DD': 1, 'BB': 1}},\n",
       " 'DD': {'pressure_released': 20, 'neibors': {'CC': 1, 'AA': 1, 'EE': 1}},\n",
       " 'EE': {'pressure_released': 3, 'neibors': {'DD': 1, 'HH': 3}},\n",
       " 'HH': {'pressure_released': 22, 'neibors': {'EE': 3}},\n",
       " 'JJ': {'pressure_released': 21, 'neibors': {'AA': 2}}}"
      ]
     },
     "execution_count": 142,
     "metadata": {},
     "output_type": "execute_result"
    }
   ],
   "source": [
    "valves"
   ]
  },
  {
   "cell_type": "code",
   "execution_count": null,
   "metadata": {},
   "outputs": [],
   "source": []
  }
 ],
 "metadata": {
  "kernelspec": {
   "display_name": "Python 3.9.10 64-bit",
   "language": "python",
   "name": "python3"
  },
  "language_info": {
   "codemirror_mode": {
    "name": "ipython",
    "version": 3
   },
   "file_extension": ".py",
   "mimetype": "text/x-python",
   "name": "python",
   "nbconvert_exporter": "python",
   "pygments_lexer": "ipython3",
   "version": "3.9.10"
  },
  "orig_nbformat": 4,
  "vscode": {
   "interpreter": {
    "hash": "36cf16204b8548560b1c020c4e8fb5b57f0e4c58016f52f2d4be01e192833930"
   }
  }
 },
 "nbformat": 4,
 "nbformat_minor": 2
}
