{
 "cells": [
  {
   "cell_type": "code",
   "execution_count": 130,
   "metadata": {},
   "outputs": [],
   "source": [
    "import re, numpy as np"
   ]
  },
  {
   "cell_type": "code",
   "execution_count": 131,
   "metadata": {},
   "outputs": [],
   "source": [
    "input = open('p15.txt', mode='r').readlines()\n",
    "objects = []\n",
    "for line in input:\n",
    "    line = re.findall(r'(-?\\d+)',line)\n",
    "    line = list(map(int,line))\n",
    "    objects.append([[line[0], line[1]], [line[2], line[3]]])"
   ]
  },
  {
   "cell_type": "code",
   "execution_count": 132,
   "metadata": {},
   "outputs": [],
   "source": [
    "all_points = np.array(objects).reshape(-1,2).T\n",
    "xmin, ymin = all_points[0].min(), all_points[1].min()\n",
    "xmax, ymax = all_points[0].max(), all_points[1].max()"
   ]
  },
  {
   "cell_type": "code",
   "execution_count": 133,
   "metadata": {},
   "outputs": [],
   "source": [
    "y = 2000000\n",
    "for obj in objects:\n",
    "    obj.append(np.linalg.norm([1, -1] @ np.array(obj), ord=1))"
   ]
  },
  {
   "cell_type": "code",
   "execution_count": 135,
   "metadata": {},
   "outputs": [],
   "source": [
    "def check_sensors(sensors, x,y):\n",
    "    result = False\n",
    "    for sensor in sensors:\n",
    "        if sensor[1] == [x,y]:\n",
    "            result = False\n",
    "            break\n",
    "        if np.linalg.norm(np.array(sensor[0]) - np.array([x, y]),ord=1) <= sensor[2]:\n",
    "            result = True\n",
    "            break\n",
    "    return result"
   ]
  },
  {
   "cell_type": "code",
   "execution_count": 136,
   "metadata": {},
   "outputs": [],
   "source": [
    "result = True\n",
    "\n",
    "count = 0\n",
    "for x in range(xmin, xmax+1):\n",
    "    count += check_sensors(objects, x,y)\n",
    "\n",
    "x = xmax+1\n",
    "while check_sensors(objects, x,y):\n",
    "    count += 1\n",
    "    x += 1\n",
    "x = xmin-1\n",
    "while check_sensors(objects, x,y):\n",
    "    count += 1\n",
    "    x -= 1"
   ]
  },
  {
   "cell_type": "code",
   "execution_count": 137,
   "metadata": {},
   "outputs": [
    {
     "data": {
      "text/plain": [
       "6124805"
      ]
     },
     "execution_count": 137,
     "metadata": {},
     "output_type": "execute_result"
    }
   ],
   "source": [
    "count"
   ]
  },
  {
   "cell_type": "code",
   "execution_count": 188,
   "metadata": {},
   "outputs": [],
   "source": [
    "def intersect(sensors, k=1, dist=[1,1]):\n",
    "    d = [dist[0]*(sensors[0][2] + 1), dist[1]*(sensors[1][2] + 1)]\n",
    "    y0 = sensors[0][0][1] + d[0]\n",
    "    y1 = sensors[1][0][1] + d[1]\n",
    "    x0 = sensors[0][0][0]\n",
    "    x1 = sensors[1][0][0]\n",
    "    x = .5*(k*(y1 - y0) + x0 + x1)\n",
    "    y = k*(x - x0) + y0\n",
    "    return [x,y]"
   ]
  },
  {
   "cell_type": "code",
   "execution_count": 199,
   "metadata": {},
   "outputs": [],
   "source": [
    "points = []\n",
    "for i in range(len(objects)-1):\n",
    "    sensor0 = objects[i]\n",
    "    for j in range(i,len(objects)-1):\n",
    "        sensor1 = objects[j]\n",
    "        for d in ([1, 1], [-1, 1], [1, -1],[-1, -1]):\n",
    "            points.append(intersect(sensors=[sensor0, sensor1], k=1, dist=d))\n",
    "            points.append(intersect(sensors=[sensor0, sensor1], k=-1, dist=d))\n",
    "points = [p for p in points if p[1]>=0 and p[0]>=0 and p[1]<=4000000 and p[0]<=4000000]\n",
    "points = [p for p in points if not check_sensors(objects, int(p[0]),int(p[1]))]\n",
    "points = np.unique(points,axis=0)"
   ]
  },
  {
   "cell_type": "code",
   "execution_count": 202,
   "metadata": {},
   "outputs": [
    {
     "data": {
      "text/plain": [
       "12555527364986.0"
      ]
     },
     "execution_count": 202,
     "metadata": {},
     "output_type": "execute_result"
    }
   ],
   "source": [
    "[4000000,1] @ points[0]"
   ]
  }
 ],
 "metadata": {
  "kernelspec": {
   "display_name": "Python 3.9.10 64-bit",
   "language": "python",
   "name": "python3"
  },
  "language_info": {
   "codemirror_mode": {
    "name": "ipython",
    "version": 3
   },
   "file_extension": ".py",
   "mimetype": "text/x-python",
   "name": "python",
   "nbconvert_exporter": "python",
   "pygments_lexer": "ipython3",
   "version": "3.9.10"
  },
  "orig_nbformat": 4,
  "vscode": {
   "interpreter": {
    "hash": "36cf16204b8548560b1c020c4e8fb5b57f0e4c58016f52f2d4be01e192833930"
   }
  }
 },
 "nbformat": 4,
 "nbformat_minor": 2
}
