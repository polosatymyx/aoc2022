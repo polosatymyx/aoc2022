{
 "cells": [
  {
   "cell_type": "code",
   "execution_count": 2,
   "metadata": {},
   "outputs": [],
   "source": [
    "import json"
   ]
  },
  {
   "cell_type": "code",
   "execution_count": 182,
   "metadata": {},
   "outputs": [],
   "source": [
    "def compare(a,b):\n",
    "    if not type(a) == type(b):\n",
    "        if type(a) == int : a = [a]\n",
    "        else: b = [b]\n",
    "    try:\n",
    "        if a < b: return 'proper'\n",
    "        elif a == b: return 'neither' \n",
    "        else: return 'broken'\n",
    "    except TypeError:\n",
    "        for i in range(len(a)):\n",
    "            # print('a, b', a, b)\n",
    "            try:\n",
    "                # print(i)\n",
    "                result = compare(a[i], b[i])\n",
    "            except IndexError:\n",
    "                # print(a, b)\n",
    "                if len(a)<len(b): return 'proper'\n",
    "                return 'broken'\n",
    "\n",
    "            if not result == 'neither':\n",
    "                return result\n",
    "        if  len(b)>len(a):\n",
    "            return 'proper'\n",
    "\n",
    "    return 'broken'\n"
   ]
  },
  {
   "cell_type": "code",
   "execution_count": 140,
   "metadata": {},
   "outputs": [
    {
     "name": "stdout",
     "output_type": "stream",
     "text": [
      "{'proper': [1, 2, 3, 4, 5, 6, 7, 8, 9, 12, 14, 15, 18, 19, 20, 23, 24, 27, 28, 30, 31, 33, 34, 38, 39, 41, 43, 45, 46, 47, 52, 53, 54, 55, 60, 61, 64, 65, 67, 68, 70, 71, 77, 78, 79, 81, 82, 83, 87, 88, 89, 91, 92, 93, 95, 96, 98, 100, 101, 104, 106, 109, 110, 113, 114, 118, 120, 121, 122, 123, 125, 126, 127, 128, 130, 131, 132, 138, 141, 142, 144, 145, 147, 148], 'broken': [10, 11, 13, 16, 17, 21, 22, 25, 26, 29, 32, 35, 36, 37, 40, 42, 44, 48, 49, 50, 51, 56, 57, 58, 59, 62, 63, 66, 69, 72, 73, 74, 75, 76, 80, 84, 85, 86, 90, 94, 97, 99, 102, 103, 105, 107, 108, 111, 112, 115, 116, 117, 119, 124, 129, 133, 134, 135, 136, 137, 139, 140, 143, 146, 149, 150], 'neither': []}\n"
     ]
    }
   ],
   "source": [
    "input = iter(open('p13.txt', mode='r').readlines())\n",
    "ind = 1\n",
    "result = {'proper': [], 'broken': [], 'neither': []}\n",
    "while True:\n",
    "    try:\n",
    "        a = json.loads(next(input).strip('\\n'))\n",
    "        b = json.loads(next(input).strip('\\n'))\n",
    "        result[compare(a,b)].append(ind)\n",
    "        next(input).strip('\\n')\n",
    "        ind+=1\n",
    "    except StopIteration:\n",
    "        break\n",
    "print(result)"
   ]
  },
  {
   "cell_type": "code",
   "execution_count": 210,
   "metadata": {},
   "outputs": [],
   "source": [
    "input = iter(open('p13.txt', mode='r').readlines())\n",
    "result = []\n",
    "while True:\n",
    "    try:\n",
    "        line = next(input).strip('\\n')\n",
    "        if line: result.append(json.loads(line))\n",
    "    except StopIteration:\n",
    "        break\n",
    "small_packets = []\n",
    "larger_packets = []\n",
    "for packet in result:\n",
    "    if (compare([[2]],packet)=='broken'):\n",
    "        small_packets.append(packet)\n",
    "    elif (compare([[6]],packet)=='broken'):\n",
    "        larger_packets.append(packet)"
   ]
  },
  {
   "cell_type": "code",
   "execution_count": 214,
   "metadata": {},
   "outputs": [
    {
     "data": {
      "text/plain": [
       "27930"
      ]
     },
     "execution_count": 214,
     "metadata": {},
     "output_type": "execute_result"
    }
   ],
   "source": [
    "# compare( [9], [[9], []])\n",
    "a = [len(small_packets)+1, len(larger_packets)+1]\n",
    "a[0]*(a[0]+a[1])\n"
   ]
  }
 ],
 "metadata": {
  "kernelspec": {
   "display_name": "Python 3.9.10 64-bit",
   "language": "python",
   "name": "python3"
  },
  "language_info": {
   "codemirror_mode": {
    "name": "ipython",
    "version": 3
   },
   "file_extension": ".py",
   "mimetype": "text/x-python",
   "name": "python",
   "nbconvert_exporter": "python",
   "pygments_lexer": "ipython3",
   "version": "3.9.10"
  },
  "orig_nbformat": 4,
  "vscode": {
   "interpreter": {
    "hash": "36cf16204b8548560b1c020c4e8fb5b57f0e4c58016f52f2d4be01e192833930"
   }
  }
 },
 "nbformat": 4,
 "nbformat_minor": 2
}
