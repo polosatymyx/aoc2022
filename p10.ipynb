{
 "cells": [
  {
   "cell_type": "markdown",
   "metadata": {},
   "source": [
    "# Problem #1"
   ]
  },
  {
   "cell_type": "code",
   "execution_count": 35,
   "metadata": {},
   "outputs": [],
   "source": [
    "\n",
    "input = open('p10.txt', mode='r')"
   ]
  },
  {
   "cell_type": "code",
   "execution_count": 36,
   "metadata": {},
   "outputs": [],
   "source": [
    "rules = {'noop': 1, 'addx': 2}\n",
    "result = []\n",
    "\n",
    "\n",
    "def process(input, result):\n",
    "    regX, cycles = 1, 0\n",
    "    spot_cycle = 20\n",
    "    while True:\n",
    "        action = input.readline().strip('\\n').split()\n",
    "        if not action: break\n",
    "\n",
    "        n_cycles = rules[action[0]]\n",
    "        if n_cycles==2: value = int(action[1])\n",
    "        else:       value=0\n",
    "\n",
    "        cycles += n_cycles\n",
    "        if cycles >= spot_cycle:\n",
    "            result.append(spot_cycle * regX)\n",
    "            spot_cycle += 40\n",
    "        regX += value\n",
    "    return sum(result)\n",
    "    "
   ]
  },
  {
   "cell_type": "code",
   "execution_count": 37,
   "metadata": {},
   "outputs": [
    {
     "data": {
      "text/plain": [
       "15140"
      ]
     },
     "execution_count": 37,
     "metadata": {},
     "output_type": "execute_result"
    }
   ],
   "source": [
    "process(input, result)"
   ]
  },
  {
   "cell_type": "markdown",
   "metadata": {},
   "source": [
    "# Problem #2"
   ]
  },
  {
   "cell_type": "code",
   "execution_count": 73,
   "metadata": {},
   "outputs": [],
   "source": [
    "import numpy as np\n",
    "from matplotlib import pyplot as plt"
   ]
  },
  {
   "cell_type": "code",
   "execution_count": 76,
   "metadata": {},
   "outputs": [],
   "source": [
    "class sprite_ctrl:\n",
    "    rules = {'noop': 1, 'addx': 2}\n",
    "    def __init__(self) -> None:\n",
    "        self.regX = 1\n",
    "        self.load = 0\n",
    "        self.value=0\n",
    "\n",
    "    def update(self, input):\n",
    "        if not self.load:\n",
    "            action = input.readline().strip('\\n').split()\n",
    "            if action:\n",
    "                self.regX += self.value\n",
    "                self.load = rules[action[0]]\n",
    "                if self.load==2: self.value = int(action[1])\n",
    "                else:       self.value = 0\n",
    "        self.load -= 1\n",
    "        return np.array([-1,0,1]) + self.regX"
   ]
  },
  {
   "cell_type": "code",
   "execution_count": 77,
   "metadata": {},
   "outputs": [
    {
     "data": {
      "text/plain": [
       "<matplotlib.image.AxesImage at 0x7f6c6fddaa00>"
      ]
     },
     "execution_count": 77,
     "metadata": {},
     "output_type": "execute_result"
    },
    {
     "data": {
      "image/png": "[encoded data removed]",
      "text/plain": [
       "<Figure size 432x288 with 1 Axes>"
      ]
     },
     "metadata": {
      "needs_background": "light"
     },
     "output_type": "display_data"
    }
   ],
   "source": [
    "input = open('p10.txt', mode='r')\n",
    "screen = np.zeros([6,40])\n",
    "sprite_obj = sprite_ctrl()\n",
    "\n",
    "for j in range (6):\n",
    "    for i in range(40):\n",
    "        screen[j,i] =  (i in sprite_obj.update(input))\n",
    "plt.imshow(screen)"
   ]
  },
  {
   "cell_type": "code",
   "execution_count": null,
   "metadata": {},
   "outputs": [],
   "source": []
  }
 ],
 "metadata": {
  "kernelspec": {
   "display_name": "Python 3.9.10 64-bit",
   "language": "python",
   "name": "python3"
  },
  "language_info": {
   "codemirror_mode": {
    "name": "ipython",
    "version": 3
   },
   "file_extension": ".py",
   "mimetype": "text/x-python",
   "name": "python",
   "nbconvert_exporter": "python",
   "pygments_lexer": "ipython3",
   "version": "3.9.10"
  },
  "orig_nbformat": 4,
  "vscode": {
   "interpreter": {
    "hash": "36cf16204b8548560b1c020c4e8fb5b57f0e4c58016f52f2d4be01e192833930"
   }
  }
 },
 "nbformat": 4,
 "nbformat_minor": 2
}
